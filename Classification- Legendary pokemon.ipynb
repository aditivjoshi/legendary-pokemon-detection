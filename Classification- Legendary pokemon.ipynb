{
 "cells": [
  {
   "cell_type": "code",
   "execution_count": 1,
   "id": "d96d9201",
   "metadata": {},
   "outputs": [],
   "source": [
    "import numpy as np\n",
    "import pandas as pd"
   ]
  },
  {
   "cell_type": "code",
   "execution_count": 2,
   "id": "5ebe3204",
   "metadata": {},
   "outputs": [],
   "source": [
    "#reading data from a csv file\n",
    "poke0= pd.read_csv(\"data2.csv\")"
   ]
  },
  {
   "cell_type": "code",
   "execution_count": 62,
   "id": "e456264b",
   "metadata": {},
   "outputs": [
    {
     "data": {
      "text/plain": [
       "Unnamed: 0          1028\n",
       "pokedex_number      1028\n",
       "name                1028\n",
       "german_name          938\n",
       "japanese_name        938\n",
       "generation          1028\n",
       "is_sub_legendary    1028\n",
       "is_legendary        1028\n",
       "is_mythical         1028\n",
       "species             1027\n",
       "type_number         1028\n",
       "type_1              1027\n",
       "type_2               541\n",
       "height_m            1027\n",
       "weight_kg           1026\n",
       "abilities_number    1028\n",
       "ability_1           1024\n",
       "ability_2            512\n",
       "ability_hidden       810\n",
       "total_points        1027\n",
       "hp                  1027\n",
       "attack              1027\n",
       "defense             1027\n",
       "sp_attack           1027\n",
       "sp_defense          1027\n",
       "speed               1027\n",
       "catch_rate           923\n",
       "base_friendship      923\n",
       "base_experience      923\n",
       "growth_rate         1026\n",
       "egg_type_number     1028\n",
       "egg_type_1          1024\n",
       "egg_type_2           282\n",
       "percentage_male      791\n",
       "egg_cycles          1026\n",
       "dtype: int64"
      ]
     },
     "execution_count": 62,
     "metadata": {},
     "output_type": "execute_result"
    }
   ],
   "source": [
    "poke0.count()"
   ]
  },
  {
   "cell_type": "code",
   "execution_count": 3,
   "id": "6209d77f",
   "metadata": {},
   "outputs": [
    {
     "data": {
      "text/plain": [
       "(1028, 35)"
      ]
     },
     "execution_count": 3,
     "metadata": {},
     "output_type": "execute_result"
    }
   ],
   "source": [
    "poke0.shape"
   ]
  },
  {
   "cell_type": "code",
   "execution_count": 4,
   "id": "2869bbf7",
   "metadata": {},
   "outputs": [
    {
     "data": {
      "text/html": [
       "<div>\n",
       "<style scoped>\n",
       "    .dataframe tbody tr th:only-of-type {\n",
       "        vertical-align: middle;\n",
       "    }\n",
       "\n",
       "    .dataframe tbody tr th {\n",
       "        vertical-align: top;\n",
       "    }\n",
       "\n",
       "    .dataframe thead th {\n",
       "        text-align: right;\n",
       "    }\n",
       "</style>\n",
       "<table border=\"1\" class=\"dataframe\">\n",
       "  <thead>\n",
       "    <tr style=\"text-align: right;\">\n",
       "      <th></th>\n",
       "      <th>Unnamed: 0</th>\n",
       "      <th>pokedex_number</th>\n",
       "      <th>name</th>\n",
       "      <th>german_name</th>\n",
       "      <th>japanese_name</th>\n",
       "      <th>generation</th>\n",
       "      <th>is_sub_legendary</th>\n",
       "      <th>is_legendary</th>\n",
       "      <th>is_mythical</th>\n",
       "      <th>species</th>\n",
       "      <th>...</th>\n",
       "      <th>speed</th>\n",
       "      <th>catch_rate</th>\n",
       "      <th>base_friendship</th>\n",
       "      <th>base_experience</th>\n",
       "      <th>growth_rate</th>\n",
       "      <th>egg_type_number</th>\n",
       "      <th>egg_type_1</th>\n",
       "      <th>egg_type_2</th>\n",
       "      <th>percentage_male</th>\n",
       "      <th>egg_cycles</th>\n",
       "    </tr>\n",
       "  </thead>\n",
       "  <tbody>\n",
       "    <tr>\n",
       "      <th>0</th>\n",
       "      <td>0</td>\n",
       "      <td>1</td>\n",
       "      <td>Bulbasaur</td>\n",
       "      <td>Bisasam</td>\n",
       "      <td>フシギダネ (Fushigidane)</td>\n",
       "      <td>1</td>\n",
       "      <td>0</td>\n",
       "      <td>0</td>\n",
       "      <td>0</td>\n",
       "      <td>Seed Pokémon</td>\n",
       "      <td>...</td>\n",
       "      <td>45.0</td>\n",
       "      <td>45.0</td>\n",
       "      <td>70.0</td>\n",
       "      <td>64.0</td>\n",
       "      <td>Medium Slow</td>\n",
       "      <td>2</td>\n",
       "      <td>Grass</td>\n",
       "      <td>Monster</td>\n",
       "      <td>87.5</td>\n",
       "      <td>20.0</td>\n",
       "    </tr>\n",
       "    <tr>\n",
       "      <th>1</th>\n",
       "      <td>1</td>\n",
       "      <td>2</td>\n",
       "      <td>Ivysaur</td>\n",
       "      <td>Bisaknosp</td>\n",
       "      <td>フシギソウ (Fushigisou)</td>\n",
       "      <td>1</td>\n",
       "      <td>0</td>\n",
       "      <td>0</td>\n",
       "      <td>0</td>\n",
       "      <td>Seed Pokémon</td>\n",
       "      <td>...</td>\n",
       "      <td>60.0</td>\n",
       "      <td>45.0</td>\n",
       "      <td>70.0</td>\n",
       "      <td>142.0</td>\n",
       "      <td>Medium Slow</td>\n",
       "      <td>2</td>\n",
       "      <td>Grass</td>\n",
       "      <td>Monster</td>\n",
       "      <td>87.5</td>\n",
       "      <td>20.0</td>\n",
       "    </tr>\n",
       "    <tr>\n",
       "      <th>2</th>\n",
       "      <td>2</td>\n",
       "      <td>3</td>\n",
       "      <td>Venusaur</td>\n",
       "      <td>Bisaflor</td>\n",
       "      <td>フシギバナ (Fushigibana)</td>\n",
       "      <td>1</td>\n",
       "      <td>0</td>\n",
       "      <td>0</td>\n",
       "      <td>0</td>\n",
       "      <td>Seed Pokémon</td>\n",
       "      <td>...</td>\n",
       "      <td>80.0</td>\n",
       "      <td>45.0</td>\n",
       "      <td>70.0</td>\n",
       "      <td>236.0</td>\n",
       "      <td>Medium Slow</td>\n",
       "      <td>2</td>\n",
       "      <td>Grass</td>\n",
       "      <td>Monster</td>\n",
       "      <td>87.5</td>\n",
       "      <td>20.0</td>\n",
       "    </tr>\n",
       "    <tr>\n",
       "      <th>3</th>\n",
       "      <td>3</td>\n",
       "      <td>3</td>\n",
       "      <td>Mega Venusaur</td>\n",
       "      <td>Bisaflor</td>\n",
       "      <td>フシギバナ (Fushigibana)</td>\n",
       "      <td>1</td>\n",
       "      <td>0</td>\n",
       "      <td>0</td>\n",
       "      <td>0</td>\n",
       "      <td>Seed Pokémon</td>\n",
       "      <td>...</td>\n",
       "      <td>80.0</td>\n",
       "      <td>45.0</td>\n",
       "      <td>70.0</td>\n",
       "      <td>281.0</td>\n",
       "      <td>Medium Slow</td>\n",
       "      <td>2</td>\n",
       "      <td>Grass</td>\n",
       "      <td>Monster</td>\n",
       "      <td>87.5</td>\n",
       "      <td>20.0</td>\n",
       "    </tr>\n",
       "    <tr>\n",
       "      <th>4</th>\n",
       "      <td>4</td>\n",
       "      <td>4</td>\n",
       "      <td>Charmander</td>\n",
       "      <td>Glumanda</td>\n",
       "      <td>ヒトカゲ (Hitokage)</td>\n",
       "      <td>1</td>\n",
       "      <td>0</td>\n",
       "      <td>0</td>\n",
       "      <td>0</td>\n",
       "      <td>Lizard Pokémon</td>\n",
       "      <td>...</td>\n",
       "      <td>65.0</td>\n",
       "      <td>45.0</td>\n",
       "      <td>70.0</td>\n",
       "      <td>62.0</td>\n",
       "      <td>Medium Slow</td>\n",
       "      <td>2</td>\n",
       "      <td>Dragon</td>\n",
       "      <td>Monster</td>\n",
       "      <td>87.5</td>\n",
       "      <td>20.0</td>\n",
       "    </tr>\n",
       "  </tbody>\n",
       "</table>\n",
       "<p>5 rows × 35 columns</p>\n",
       "</div>"
      ],
      "text/plain": [
       "   Unnamed: 0  pokedex_number           name german_name        japanese_name  \\\n",
       "0           0               1      Bulbasaur     Bisasam  フシギダネ (Fushigidane)   \n",
       "1           1               2        Ivysaur   Bisaknosp   フシギソウ (Fushigisou)   \n",
       "2           2               3       Venusaur    Bisaflor  フシギバナ (Fushigibana)   \n",
       "3           3               3  Mega Venusaur    Bisaflor  フシギバナ (Fushigibana)   \n",
       "4           4               4     Charmander    Glumanda      ヒトカゲ (Hitokage)   \n",
       "\n",
       "   generation  is_sub_legendary  is_legendary  is_mythical         species  \\\n",
       "0           1                 0             0            0    Seed Pokémon   \n",
       "1           1                 0             0            0    Seed Pokémon   \n",
       "2           1                 0             0            0    Seed Pokémon   \n",
       "3           1                 0             0            0    Seed Pokémon   \n",
       "4           1                 0             0            0  Lizard Pokémon   \n",
       "\n",
       "   ...  speed catch_rate base_friendship  base_experience  growth_rate  \\\n",
       "0  ...   45.0       45.0            70.0             64.0  Medium Slow   \n",
       "1  ...   60.0       45.0            70.0            142.0  Medium Slow   \n",
       "2  ...   80.0       45.0            70.0            236.0  Medium Slow   \n",
       "3  ...   80.0       45.0            70.0            281.0  Medium Slow   \n",
       "4  ...   65.0       45.0            70.0             62.0  Medium Slow   \n",
       "\n",
       "   egg_type_number egg_type_1 egg_type_2 percentage_male  egg_cycles  \n",
       "0                2      Grass    Monster            87.5        20.0  \n",
       "1                2      Grass    Monster            87.5        20.0  \n",
       "2                2      Grass    Monster            87.5        20.0  \n",
       "3                2      Grass    Monster            87.5        20.0  \n",
       "4                2     Dragon    Monster            87.5        20.0  \n",
       "\n",
       "[5 rows x 35 columns]"
      ]
     },
     "execution_count": 4,
     "metadata": {},
     "output_type": "execute_result"
    }
   ],
   "source": [
    "poke0.head()"
   ]
  },
  {
   "cell_type": "code",
   "execution_count": 5,
   "id": "6c345f3a",
   "metadata": {},
   "outputs": [
    {
     "data": {
      "text/html": [
       "<div>\n",
       "<style scoped>\n",
       "    .dataframe tbody tr th:only-of-type {\n",
       "        vertical-align: middle;\n",
       "    }\n",
       "\n",
       "    .dataframe tbody tr th {\n",
       "        vertical-align: top;\n",
       "    }\n",
       "\n",
       "    .dataframe thead th {\n",
       "        text-align: right;\n",
       "    }\n",
       "</style>\n",
       "<table border=\"1\" class=\"dataframe\">\n",
       "  <thead>\n",
       "    <tr style=\"text-align: right;\">\n",
       "      <th></th>\n",
       "      <th>pokedex_number</th>\n",
       "      <th>generation</th>\n",
       "      <th>is_sub_legendary</th>\n",
       "      <th>is_legendary</th>\n",
       "      <th>is_mythical</th>\n",
       "      <th>type_number</th>\n",
       "      <th>type_1</th>\n",
       "      <th>height_m</th>\n",
       "      <th>weight_kg</th>\n",
       "      <th>abilities_number</th>\n",
       "      <th>...</th>\n",
       "      <th>sp_defense</th>\n",
       "      <th>speed</th>\n",
       "      <th>catch_rate</th>\n",
       "      <th>base_friendship</th>\n",
       "      <th>base_experience</th>\n",
       "      <th>growth_rate</th>\n",
       "      <th>egg_type_number</th>\n",
       "      <th>egg_type_1</th>\n",
       "      <th>percentage_male</th>\n",
       "      <th>egg_cycles</th>\n",
       "    </tr>\n",
       "  </thead>\n",
       "  <tbody>\n",
       "    <tr>\n",
       "      <th>0</th>\n",
       "      <td>1</td>\n",
       "      <td>1</td>\n",
       "      <td>0</td>\n",
       "      <td>0</td>\n",
       "      <td>0</td>\n",
       "      <td>2</td>\n",
       "      <td>Grass</td>\n",
       "      <td>0.7</td>\n",
       "      <td>6.9</td>\n",
       "      <td>2</td>\n",
       "      <td>...</td>\n",
       "      <td>65.0</td>\n",
       "      <td>45.0</td>\n",
       "      <td>45.0</td>\n",
       "      <td>70.0</td>\n",
       "      <td>64.0</td>\n",
       "      <td>Medium Slow</td>\n",
       "      <td>2</td>\n",
       "      <td>Grass</td>\n",
       "      <td>87.5</td>\n",
       "      <td>20.0</td>\n",
       "    </tr>\n",
       "    <tr>\n",
       "      <th>1</th>\n",
       "      <td>2</td>\n",
       "      <td>1</td>\n",
       "      <td>0</td>\n",
       "      <td>0</td>\n",
       "      <td>0</td>\n",
       "      <td>2</td>\n",
       "      <td>Grass</td>\n",
       "      <td>1.0</td>\n",
       "      <td>13.0</td>\n",
       "      <td>2</td>\n",
       "      <td>...</td>\n",
       "      <td>80.0</td>\n",
       "      <td>60.0</td>\n",
       "      <td>45.0</td>\n",
       "      <td>70.0</td>\n",
       "      <td>142.0</td>\n",
       "      <td>Medium Slow</td>\n",
       "      <td>2</td>\n",
       "      <td>Grass</td>\n",
       "      <td>87.5</td>\n",
       "      <td>20.0</td>\n",
       "    </tr>\n",
       "    <tr>\n",
       "      <th>2</th>\n",
       "      <td>3</td>\n",
       "      <td>1</td>\n",
       "      <td>0</td>\n",
       "      <td>0</td>\n",
       "      <td>0</td>\n",
       "      <td>2</td>\n",
       "      <td>Grass</td>\n",
       "      <td>2.0</td>\n",
       "      <td>100.0</td>\n",
       "      <td>2</td>\n",
       "      <td>...</td>\n",
       "      <td>100.0</td>\n",
       "      <td>80.0</td>\n",
       "      <td>45.0</td>\n",
       "      <td>70.0</td>\n",
       "      <td>236.0</td>\n",
       "      <td>Medium Slow</td>\n",
       "      <td>2</td>\n",
       "      <td>Grass</td>\n",
       "      <td>87.5</td>\n",
       "      <td>20.0</td>\n",
       "    </tr>\n",
       "    <tr>\n",
       "      <th>3</th>\n",
       "      <td>3</td>\n",
       "      <td>1</td>\n",
       "      <td>0</td>\n",
       "      <td>0</td>\n",
       "      <td>0</td>\n",
       "      <td>2</td>\n",
       "      <td>Grass</td>\n",
       "      <td>2.4</td>\n",
       "      <td>155.5</td>\n",
       "      <td>1</td>\n",
       "      <td>...</td>\n",
       "      <td>120.0</td>\n",
       "      <td>80.0</td>\n",
       "      <td>45.0</td>\n",
       "      <td>70.0</td>\n",
       "      <td>281.0</td>\n",
       "      <td>Medium Slow</td>\n",
       "      <td>2</td>\n",
       "      <td>Grass</td>\n",
       "      <td>87.5</td>\n",
       "      <td>20.0</td>\n",
       "    </tr>\n",
       "    <tr>\n",
       "      <th>4</th>\n",
       "      <td>4</td>\n",
       "      <td>1</td>\n",
       "      <td>0</td>\n",
       "      <td>0</td>\n",
       "      <td>0</td>\n",
       "      <td>1</td>\n",
       "      <td>Fire</td>\n",
       "      <td>0.6</td>\n",
       "      <td>8.5</td>\n",
       "      <td>2</td>\n",
       "      <td>...</td>\n",
       "      <td>50.0</td>\n",
       "      <td>65.0</td>\n",
       "      <td>45.0</td>\n",
       "      <td>70.0</td>\n",
       "      <td>62.0</td>\n",
       "      <td>Medium Slow</td>\n",
       "      <td>2</td>\n",
       "      <td>Dragon</td>\n",
       "      <td>87.5</td>\n",
       "      <td>20.0</td>\n",
       "    </tr>\n",
       "  </tbody>\n",
       "</table>\n",
       "<p>5 rows × 25 columns</p>\n",
       "</div>"
      ],
      "text/plain": [
       "   pokedex_number  generation  is_sub_legendary  is_legendary  is_mythical  \\\n",
       "0               1           1                 0             0            0   \n",
       "1               2           1                 0             0            0   \n",
       "2               3           1                 0             0            0   \n",
       "3               3           1                 0             0            0   \n",
       "4               4           1                 0             0            0   \n",
       "\n",
       "   type_number type_1  height_m  weight_kg  abilities_number  ...  sp_defense  \\\n",
       "0            2  Grass       0.7        6.9                 2  ...        65.0   \n",
       "1            2  Grass       1.0       13.0                 2  ...        80.0   \n",
       "2            2  Grass       2.0      100.0                 2  ...       100.0   \n",
       "3            2  Grass       2.4      155.5                 1  ...       120.0   \n",
       "4            1   Fire       0.6        8.5                 2  ...        50.0   \n",
       "\n",
       "   speed  catch_rate  base_friendship  base_experience  growth_rate  \\\n",
       "0   45.0        45.0             70.0             64.0  Medium Slow   \n",
       "1   60.0        45.0             70.0            142.0  Medium Slow   \n",
       "2   80.0        45.0             70.0            236.0  Medium Slow   \n",
       "3   80.0        45.0             70.0            281.0  Medium Slow   \n",
       "4   65.0        45.0             70.0             62.0  Medium Slow   \n",
       "\n",
       "   egg_type_number  egg_type_1  percentage_male  egg_cycles  \n",
       "0                2       Grass             87.5        20.0  \n",
       "1                2       Grass             87.5        20.0  \n",
       "2                2       Grass             87.5        20.0  \n",
       "3                2       Grass             87.5        20.0  \n",
       "4                2      Dragon             87.5        20.0  \n",
       "\n",
       "[5 rows x 25 columns]"
      ]
     },
     "execution_count": 5,
     "metadata": {},
     "output_type": "execute_result"
    }
   ],
   "source": [
    "#deleting unwanted columns\n",
    "poke1=poke0.drop(['Unnamed: 0','german_name','japanese_name','egg_type_2','type_2','ability_1','ability_2','ability_hidden','name','species'],axis=1)\n",
    "poke1.head()"
   ]
  },
  {
   "cell_type": "code",
   "execution_count": 6,
   "id": "8b40375c",
   "metadata": {},
   "outputs": [
    {
     "data": {
      "text/plain": [
       "pokedex_number        0\n",
       "generation            0\n",
       "is_sub_legendary      0\n",
       "is_legendary          0\n",
       "is_mythical           0\n",
       "type_number           0\n",
       "type_1                1\n",
       "height_m              1\n",
       "weight_kg             2\n",
       "abilities_number      0\n",
       "total_points          1\n",
       "hp                    1\n",
       "attack                1\n",
       "defense               1\n",
       "sp_attack             1\n",
       "sp_defense            1\n",
       "speed                 1\n",
       "catch_rate          105\n",
       "base_friendship     105\n",
       "base_experience     105\n",
       "growth_rate           2\n",
       "egg_type_number       0\n",
       "egg_type_1            4\n",
       "percentage_male     237\n",
       "egg_cycles            2\n",
       "dtype: int64"
      ]
     },
     "execution_count": 6,
     "metadata": {},
     "output_type": "execute_result"
    }
   ],
   "source": [
    "#checking for null values\n",
    "poke1.isnull().sum()"
   ]
  },
  {
   "cell_type": "code",
   "execution_count": 7,
   "id": "e647cbd7",
   "metadata": {},
   "outputs": [
    {
     "data": {
      "text/plain": [
       "55.0094816687737"
      ]
     },
     "execution_count": 7,
     "metadata": {},
     "output_type": "execute_result"
    }
   ],
   "source": [
    "#filling mean value in place of null values\n",
    "avg_male=np.mean(poke1['percentage_male'])\n",
    "avg_male"
   ]
  },
  {
   "cell_type": "code",
   "execution_count": 8,
   "id": "da6adb81",
   "metadata": {},
   "outputs": [],
   "source": [
    "poke1['percentage_male'].fillna(avg_male,inplace=True)"
   ]
  },
  {
   "cell_type": "code",
   "execution_count": 9,
   "id": "d3cf9d40",
   "metadata": {},
   "outputs": [],
   "source": [
    "#filling median values in place of null values\n",
    "medCatch=np.mean(poke1['catch_rate'])\n",
    "poke1['catch_rate'].fillna(medCatch,inplace=True)\n",
    "medXp= np.mean(poke1['base_experience'])\n",
    "poke1['base_experience'].fillna(medXp,inplace=True)"
   ]
  },
  {
   "cell_type": "code",
   "execution_count": 10,
   "id": "2db18cf0",
   "metadata": {},
   "outputs": [],
   "source": [
    "import statistics as st\n",
    "modeBF=st.mode(poke1['base_friendship'])\n",
    "poke1['base_friendship'].fillna(modeBF,inplace=True)"
   ]
  },
  {
   "cell_type": "code",
   "execution_count": 11,
   "id": "6d9ece09",
   "metadata": {},
   "outputs": [],
   "source": [
    "#dropping the rest of null values\n",
    "poke1.dropna(inplace=True)"
   ]
  },
  {
   "cell_type": "code",
   "execution_count": 12,
   "id": "420355b7",
   "metadata": {},
   "outputs": [
    {
     "data": {
      "text/plain": [
       "pokedex_number      0\n",
       "generation          0\n",
       "is_sub_legendary    0\n",
       "is_legendary        0\n",
       "is_mythical         0\n",
       "type_number         0\n",
       "type_1              0\n",
       "height_m            0\n",
       "weight_kg           0\n",
       "abilities_number    0\n",
       "total_points        0\n",
       "hp                  0\n",
       "attack              0\n",
       "defense             0\n",
       "sp_attack           0\n",
       "sp_defense          0\n",
       "speed               0\n",
       "catch_rate          0\n",
       "base_friendship     0\n",
       "base_experience     0\n",
       "growth_rate         0\n",
       "egg_type_number     0\n",
       "egg_type_1          0\n",
       "percentage_male     0\n",
       "egg_cycles          0\n",
       "dtype: int64"
      ]
     },
     "execution_count": 12,
     "metadata": {},
     "output_type": "execute_result"
    }
   ],
   "source": [
    "poke1.isnull().sum()"
   ]
  },
  {
   "cell_type": "code",
   "execution_count": 13,
   "id": "0e2c3a88",
   "metadata": {},
   "outputs": [
    {
     "data": {
      "text/plain": [
       "array(['Medium Slow', 'Medium Fast', 'Fast', 'Slow', 'Fluctuating',\n",
       "       'Erratic'], dtype=object)"
      ]
     },
     "execution_count": 13,
     "metadata": {},
     "output_type": "execute_result"
    }
   ],
   "source": [
    "#plotting a pie chart for growth rate\n",
    "poke1['growth_rate'].unique()"
   ]
  },
  {
   "cell_type": "code",
   "execution_count": 14,
   "id": "c60227f4",
   "metadata": {},
   "outputs": [],
   "source": [
    "import seaborn as sns\n",
    "import matplotlib.pyplot as plt\n",
    "\n",
    "a0= poke1.loc[poke1['growth_rate']=='Medium Slow'].count()[0]\n",
    "a1= poke1.loc[poke1['growth_rate']=='Medium Fast'].count()[0]\n",
    "a2= poke1.loc[poke1['growth_rate']=='Fast'].count()[0]\n",
    "a3= poke1.loc[poke1['growth_rate']=='Slow'].count()[0]\n",
    "a4= poke1.loc[poke1['growth_rate']=='Fluctuating'].count()[0]\n",
    "a5= poke1.loc[poke1['growth_rate']=='Erratic'].count()[0]\n",
    "\n",
    "d=[a0,a1,a2,a3,a4,a5]\n",
    "l=['Medium Slow', 'Medium Fast', 'Fast', 'Slow', 'Fluctuating','Erratic']\n",
    "e=[0.1,0.1,0.1,0.1,0.1,0.1]"
   ]
  },
  {
   "cell_type": "code",
   "execution_count": 15,
   "id": "c0232705",
   "metadata": {},
   "outputs": [
    {
     "data": {
      "image/png": "[encoded data removed]",
      "text/plain": [
       "<Figure size 432x288 with 1 Axes>"
      ]
     },
     "metadata": {},
     "output_type": "display_data"
    }
   ],
   "source": [
    "plt.pie(d,autopct='%1.2f',labels=l,explode=e)\n",
    "plt.show()"
   ]
  },
  {
   "cell_type": "code",
   "execution_count": 16,
   "id": "2fe1d9c4",
   "metadata": {},
   "outputs": [],
   "source": [
    "#height against speed (scatterplot)\n",
    "x=poke1['attack'][0:25]\n",
    "y=poke1['defense'][0:25]"
   ]
  },
  {
   "cell_type": "code",
   "execution_count": 17,
   "id": "bad2ed90",
   "metadata": {},
   "outputs": [
    {
     "data": {
      "image/png": "[encoded data removed]",
      "text/plain": [
       "<Figure size 432x288 with 1 Axes>"
      ]
     },
     "metadata": {
      "needs_background": "light"
     },
     "output_type": "display_data"
    }
   ],
   "source": [
    "plt.xlabel(\"attack\")\n",
    "plt.ylabel(\"defense\")\n",
    "plt.scatter(x,y)\n",
    "plt.show()"
   ]
  },
  {
   "cell_type": "code",
   "execution_count": 18,
   "id": "171939a1",
   "metadata": {},
   "outputs": [
    {
     "data": {
      "text/plain": [
       "<AxesSubplot:xlabel='type_1', ylabel='pokemon type'>"
      ]
     },
     "execution_count": 18,
     "metadata": {},
     "output_type": "execute_result"
    },
    {
     "data": {
      "image/png": "[encoded data removed]",
      "text/plain": [
       "<Figure size 1080x720 with 1 Axes>"
      ]
     },
     "metadata": {
      "needs_background": "light"
     },
     "output_type": "display_data"
    }
   ],
   "source": [
    "#most frequently occuring pokemon type (bargraph)\n",
    "count= poke1['type_1'].value_counts()\n",
    "X= count.keys()\n",
    "Y= count\n",
    "\n",
    "p=plt.figure()\n",
    "p.set_figwidth(15)\n",
    "p.set_figheight(10)\n",
    "plt.xlabel(\"number of occurences\")\n",
    "plt.ylabel(\"pokemon type\")\n",
    "sns.barplot(x=Y,y= X,palette= 'inferno')"
   ]
  },
  {
   "cell_type": "code",
   "execution_count": 19,
   "id": "7502caa3",
   "metadata": {},
   "outputs": [
    {
     "data": {
      "text/plain": [
       "<AxesSubplot:>"
      ]
     },
     "execution_count": 19,
     "metadata": {},
     "output_type": "execute_result"
    },
    {
     "data": {
      "image/png": "[encoded data removed]",
      "text/plain": [
       "<Figure size 1440x1440 with 2 Axes>"
      ]
     },
     "metadata": {
      "needs_background": "light"
     },
     "output_type": "display_data"
    }
   ],
   "source": [
    "#correlation heatmap\n",
    "p=plt.figure()\n",
    "p.set_figwidth(20)\n",
    "p.set_figheight(20)\n",
    "\n",
    "co=poke1.corr()\n",
    "sns.heatmap(co,cmap='GnBu')"
   ]
  },
  {
   "cell_type": "code",
   "execution_count": 20,
   "id": "13085e27",
   "metadata": {},
   "outputs": [],
   "source": [
    "#scatterplot - total points vs base experience\n",
    "x= poke1['total_points']\n",
    "y= poke1['base_experience']"
   ]
  },
  {
   "cell_type": "code",
   "execution_count": 21,
   "id": "2177a3c7",
   "metadata": {},
   "outputs": [
    {
     "data": {
      "image/png": "[encoded data removed]",
      "text/plain": [
       "<Figure size 432x288 with 1 Axes>"
      ]
     },
     "metadata": {
      "needs_background": "light"
     },
     "output_type": "display_data"
    }
   ],
   "source": [
    "plt.xlabel(\"total points\")\n",
    "plt.ylabel(\"base experience\")\n",
    "\n",
    "plt.scatter(x,y)\n",
    "plt.show()"
   ]
  },
  {
   "cell_type": "code",
   "execution_count": 22,
   "id": "e66602e6",
   "metadata": {},
   "outputs": [
    {
     "name": "stderr",
     "output_type": "stream",
     "text": [
      "C:\\Users\\aditi\\anaconda3\\lib\\site-packages\\seaborn\\distributions.py:2619: FutureWarning: `distplot` is a deprecated function and will be removed in a future version. Please adapt your code to use either `displot` (a figure-level function with similar flexibility) or `histplot` (an axes-level function for histograms).\n",
      "  warnings.warn(msg, FutureWarning)\n"
     ]
    },
    {
     "data": {
      "text/plain": [
       "<AxesSubplot:xlabel='catch_rate', ylabel='Density'>"
      ]
     },
     "execution_count": 22,
     "metadata": {},
     "output_type": "execute_result"
    },
    {
     "data": {
      "image/png": "[encoded data removed]",
      "text/plain": [
       "<Figure size 1440x720 with 1 Axes>"
      ]
     },
     "metadata": {
      "needs_background": "light"
     },
     "output_type": "display_data"
    }
   ],
   "source": [
    "p=plt.figure()\n",
    "p.set_figwidth(20)\n",
    "p.set_figheight(10)\n",
    "\n",
    "sns.distplot(poke1['catch_rate'],color='red')"
   ]
  },
  {
   "cell_type": "code",
   "execution_count": 23,
   "id": "26435697",
   "metadata": {},
   "outputs": [
    {
     "data": {
      "text/plain": [
       "<seaborn.axisgrid.JointGrid at 0x1c348770cd0>"
      ]
     },
     "execution_count": 23,
     "metadata": {},
     "output_type": "execute_result"
    },
    {
     "data": {
      "image/png": "[encoded data removed]",
      "text/plain": [
       "<Figure size 720x720 with 3 Axes>"
      ]
     },
     "metadata": {
      "needs_background": "light"
     },
     "output_type": "display_data"
    }
   ],
   "source": [
    "# hexplot- total points vs hp\n",
    "sns.jointplot(x=poke1['total_points'],y=poke1['hp'],kind='hex',color='lightcoral',height=10,space=1)"
   ]
  },
  {
   "cell_type": "code",
   "execution_count": 24,
   "id": "903eb1ac",
   "metadata": {},
   "outputs": [],
   "source": [
    "#formatting the data using label encoder in sklearn\n",
    "from sklearn.preprocessing import LabelEncoder\n",
    "le=LabelEncoder()"
   ]
  },
  {
   "cell_type": "code",
   "execution_count": 25,
   "id": "e1783cb5",
   "metadata": {},
   "outputs": [
    {
     "data": {
      "text/plain": [
       "array(['Grass', 'Fire', 'Water', 'Bug', 'Normal', 'Dark', 'Poison',\n",
       "       'Electric', 'Ground', 'Ice', 'Fairy', 'Steel', 'Fighting',\n",
       "       'Psychic', 'Rock', 'Ghost', 'Dragon', 'Flying'], dtype=object)"
      ]
     },
     "execution_count": 25,
     "metadata": {},
     "output_type": "execute_result"
    }
   ],
   "source": [
    "stype1=poke1['type_1'].unique()\n",
    "type_1_int= [1,2,3,4,5,6,7,8,9,10,11,12,13,14,15,16,17,18]\n",
    "poke1['type_1'].unique()"
   ]
  },
  {
   "cell_type": "code",
   "execution_count": 26,
   "id": "d2e09a9b",
   "metadata": {},
   "outputs": [],
   "source": [
    "type1=le.fit_transform(poke1['type_1'])"
   ]
  },
  {
   "cell_type": "code",
   "execution_count": 27,
   "id": "513d52a1",
   "metadata": {},
   "outputs": [],
   "source": [
    "poke1['type1_int']=type1"
   ]
  },
  {
   "cell_type": "code",
   "execution_count": 28,
   "id": "6b165a91",
   "metadata": {},
   "outputs": [
    {
     "data": {
      "text/html": [
       "<div>\n",
       "<style scoped>\n",
       "    .dataframe tbody tr th:only-of-type {\n",
       "        vertical-align: middle;\n",
       "    }\n",
       "\n",
       "    .dataframe tbody tr th {\n",
       "        vertical-align: top;\n",
       "    }\n",
       "\n",
       "    .dataframe thead th {\n",
       "        text-align: right;\n",
       "    }\n",
       "</style>\n",
       "<table border=\"1\" class=\"dataframe\">\n",
       "  <thead>\n",
       "    <tr style=\"text-align: right;\">\n",
       "      <th></th>\n",
       "      <th>pokedex_number</th>\n",
       "      <th>generation</th>\n",
       "      <th>is_sub_legendary</th>\n",
       "      <th>is_legendary</th>\n",
       "      <th>is_mythical</th>\n",
       "      <th>type_number</th>\n",
       "      <th>type_1</th>\n",
       "      <th>height_m</th>\n",
       "      <th>weight_kg</th>\n",
       "      <th>abilities_number</th>\n",
       "      <th>...</th>\n",
       "      <th>speed</th>\n",
       "      <th>catch_rate</th>\n",
       "      <th>base_friendship</th>\n",
       "      <th>base_experience</th>\n",
       "      <th>growth_rate</th>\n",
       "      <th>egg_type_number</th>\n",
       "      <th>egg_type_1</th>\n",
       "      <th>percentage_male</th>\n",
       "      <th>egg_cycles</th>\n",
       "      <th>type1_int</th>\n",
       "    </tr>\n",
       "  </thead>\n",
       "  <tbody>\n",
       "    <tr>\n",
       "      <th>0</th>\n",
       "      <td>1</td>\n",
       "      <td>1</td>\n",
       "      <td>0</td>\n",
       "      <td>0</td>\n",
       "      <td>0</td>\n",
       "      <td>2</td>\n",
       "      <td>Grass</td>\n",
       "      <td>0.7</td>\n",
       "      <td>6.9</td>\n",
       "      <td>2</td>\n",
       "      <td>...</td>\n",
       "      <td>45.0</td>\n",
       "      <td>45.0</td>\n",
       "      <td>70.0</td>\n",
       "      <td>64.0</td>\n",
       "      <td>Medium Slow</td>\n",
       "      <td>2</td>\n",
       "      <td>Grass</td>\n",
       "      <td>87.5</td>\n",
       "      <td>20.0</td>\n",
       "      <td>9</td>\n",
       "    </tr>\n",
       "    <tr>\n",
       "      <th>1</th>\n",
       "      <td>2</td>\n",
       "      <td>1</td>\n",
       "      <td>0</td>\n",
       "      <td>0</td>\n",
       "      <td>0</td>\n",
       "      <td>2</td>\n",
       "      <td>Grass</td>\n",
       "      <td>1.0</td>\n",
       "      <td>13.0</td>\n",
       "      <td>2</td>\n",
       "      <td>...</td>\n",
       "      <td>60.0</td>\n",
       "      <td>45.0</td>\n",
       "      <td>70.0</td>\n",
       "      <td>142.0</td>\n",
       "      <td>Medium Slow</td>\n",
       "      <td>2</td>\n",
       "      <td>Grass</td>\n",
       "      <td>87.5</td>\n",
       "      <td>20.0</td>\n",
       "      <td>9</td>\n",
       "    </tr>\n",
       "    <tr>\n",
       "      <th>2</th>\n",
       "      <td>3</td>\n",
       "      <td>1</td>\n",
       "      <td>0</td>\n",
       "      <td>0</td>\n",
       "      <td>0</td>\n",
       "      <td>2</td>\n",
       "      <td>Grass</td>\n",
       "      <td>2.0</td>\n",
       "      <td>100.0</td>\n",
       "      <td>2</td>\n",
       "      <td>...</td>\n",
       "      <td>80.0</td>\n",
       "      <td>45.0</td>\n",
       "      <td>70.0</td>\n",
       "      <td>236.0</td>\n",
       "      <td>Medium Slow</td>\n",
       "      <td>2</td>\n",
       "      <td>Grass</td>\n",
       "      <td>87.5</td>\n",
       "      <td>20.0</td>\n",
       "      <td>9</td>\n",
       "    </tr>\n",
       "    <tr>\n",
       "      <th>3</th>\n",
       "      <td>3</td>\n",
       "      <td>1</td>\n",
       "      <td>0</td>\n",
       "      <td>0</td>\n",
       "      <td>0</td>\n",
       "      <td>2</td>\n",
       "      <td>Grass</td>\n",
       "      <td>2.4</td>\n",
       "      <td>155.5</td>\n",
       "      <td>1</td>\n",
       "      <td>...</td>\n",
       "      <td>80.0</td>\n",
       "      <td>45.0</td>\n",
       "      <td>70.0</td>\n",
       "      <td>281.0</td>\n",
       "      <td>Medium Slow</td>\n",
       "      <td>2</td>\n",
       "      <td>Grass</td>\n",
       "      <td>87.5</td>\n",
       "      <td>20.0</td>\n",
       "      <td>9</td>\n",
       "    </tr>\n",
       "    <tr>\n",
       "      <th>4</th>\n",
       "      <td>4</td>\n",
       "      <td>1</td>\n",
       "      <td>0</td>\n",
       "      <td>0</td>\n",
       "      <td>0</td>\n",
       "      <td>1</td>\n",
       "      <td>Fire</td>\n",
       "      <td>0.6</td>\n",
       "      <td>8.5</td>\n",
       "      <td>2</td>\n",
       "      <td>...</td>\n",
       "      <td>65.0</td>\n",
       "      <td>45.0</td>\n",
       "      <td>70.0</td>\n",
       "      <td>62.0</td>\n",
       "      <td>Medium Slow</td>\n",
       "      <td>2</td>\n",
       "      <td>Dragon</td>\n",
       "      <td>87.5</td>\n",
       "      <td>20.0</td>\n",
       "      <td>6</td>\n",
       "    </tr>\n",
       "  </tbody>\n",
       "</table>\n",
       "<p>5 rows × 26 columns</p>\n",
       "</div>"
      ],
      "text/plain": [
       "   pokedex_number  generation  is_sub_legendary  is_legendary  is_mythical  \\\n",
       "0               1           1                 0             0            0   \n",
       "1               2           1                 0             0            0   \n",
       "2               3           1                 0             0            0   \n",
       "3               3           1                 0             0            0   \n",
       "4               4           1                 0             0            0   \n",
       "\n",
       "   type_number type_1  height_m  weight_kg  abilities_number  ...  speed  \\\n",
       "0            2  Grass       0.7        6.9                 2  ...   45.0   \n",
       "1            2  Grass       1.0       13.0                 2  ...   60.0   \n",
       "2            2  Grass       2.0      100.0                 2  ...   80.0   \n",
       "3            2  Grass       2.4      155.5                 1  ...   80.0   \n",
       "4            1   Fire       0.6        8.5                 2  ...   65.0   \n",
       "\n",
       "   catch_rate  base_friendship  base_experience  growth_rate  egg_type_number  \\\n",
       "0        45.0             70.0             64.0  Medium Slow                2   \n",
       "1        45.0             70.0            142.0  Medium Slow                2   \n",
       "2        45.0             70.0            236.0  Medium Slow                2   \n",
       "3        45.0             70.0            281.0  Medium Slow                2   \n",
       "4        45.0             70.0             62.0  Medium Slow                2   \n",
       "\n",
       "   egg_type_1  percentage_male  egg_cycles  type1_int  \n",
       "0       Grass             87.5        20.0          9  \n",
       "1       Grass             87.5        20.0          9  \n",
       "2       Grass             87.5        20.0          9  \n",
       "3       Grass             87.5        20.0          9  \n",
       "4      Dragon             87.5        20.0          6  \n",
       "\n",
       "[5 rows x 26 columns]"
      ]
     },
     "execution_count": 28,
     "metadata": {},
     "output_type": "execute_result"
    }
   ],
   "source": [
    "poke1.head()"
   ]
  },
  {
   "cell_type": "code",
   "execution_count": 29,
   "id": "06bb8c25",
   "metadata": {},
   "outputs": [],
   "source": [
    "growthStr=poke1['growth_rate'].unique()\n",
    "growthArr=[1,2,3,4,5,6]\n"
   ]
  },
  {
   "cell_type": "code",
   "execution_count": 30,
   "id": "8a6d9ddb",
   "metadata": {},
   "outputs": [],
   "source": [
    "growth=le.fit_transform(poke1['growth_rate'])"
   ]
  },
  {
   "cell_type": "code",
   "execution_count": 31,
   "id": "5e11c7ad",
   "metadata": {},
   "outputs": [],
   "source": [
    "poke1['growth_rate_int']=growth"
   ]
  },
  {
   "cell_type": "code",
   "execution_count": 32,
   "id": "2ff70d20",
   "metadata": {},
   "outputs": [
    {
     "data": {
      "text/html": [
       "<div>\n",
       "<style scoped>\n",
       "    .dataframe tbody tr th:only-of-type {\n",
       "        vertical-align: middle;\n",
       "    }\n",
       "\n",
       "    .dataframe tbody tr th {\n",
       "        vertical-align: top;\n",
       "    }\n",
       "\n",
       "    .dataframe thead th {\n",
       "        text-align: right;\n",
       "    }\n",
       "</style>\n",
       "<table border=\"1\" class=\"dataframe\">\n",
       "  <thead>\n",
       "    <tr style=\"text-align: right;\">\n",
       "      <th></th>\n",
       "      <th>pokedex_number</th>\n",
       "      <th>generation</th>\n",
       "      <th>is_sub_legendary</th>\n",
       "      <th>is_legendary</th>\n",
       "      <th>is_mythical</th>\n",
       "      <th>type_number</th>\n",
       "      <th>type_1</th>\n",
       "      <th>height_m</th>\n",
       "      <th>weight_kg</th>\n",
       "      <th>abilities_number</th>\n",
       "      <th>...</th>\n",
       "      <th>catch_rate</th>\n",
       "      <th>base_friendship</th>\n",
       "      <th>base_experience</th>\n",
       "      <th>growth_rate</th>\n",
       "      <th>egg_type_number</th>\n",
       "      <th>egg_type_1</th>\n",
       "      <th>percentage_male</th>\n",
       "      <th>egg_cycles</th>\n",
       "      <th>type1_int</th>\n",
       "      <th>growth_rate_int</th>\n",
       "    </tr>\n",
       "  </thead>\n",
       "  <tbody>\n",
       "    <tr>\n",
       "      <th>0</th>\n",
       "      <td>1</td>\n",
       "      <td>1</td>\n",
       "      <td>0</td>\n",
       "      <td>0</td>\n",
       "      <td>0</td>\n",
       "      <td>2</td>\n",
       "      <td>Grass</td>\n",
       "      <td>0.7</td>\n",
       "      <td>6.9</td>\n",
       "      <td>2</td>\n",
       "      <td>...</td>\n",
       "      <td>45.0</td>\n",
       "      <td>70.0</td>\n",
       "      <td>64.0</td>\n",
       "      <td>Medium Slow</td>\n",
       "      <td>2</td>\n",
       "      <td>Grass</td>\n",
       "      <td>87.5</td>\n",
       "      <td>20.0</td>\n",
       "      <td>9</td>\n",
       "      <td>4</td>\n",
       "    </tr>\n",
       "    <tr>\n",
       "      <th>1</th>\n",
       "      <td>2</td>\n",
       "      <td>1</td>\n",
       "      <td>0</td>\n",
       "      <td>0</td>\n",
       "      <td>0</td>\n",
       "      <td>2</td>\n",
       "      <td>Grass</td>\n",
       "      <td>1.0</td>\n",
       "      <td>13.0</td>\n",
       "      <td>2</td>\n",
       "      <td>...</td>\n",
       "      <td>45.0</td>\n",
       "      <td>70.0</td>\n",
       "      <td>142.0</td>\n",
       "      <td>Medium Slow</td>\n",
       "      <td>2</td>\n",
       "      <td>Grass</td>\n",
       "      <td>87.5</td>\n",
       "      <td>20.0</td>\n",
       "      <td>9</td>\n",
       "      <td>4</td>\n",
       "    </tr>\n",
       "    <tr>\n",
       "      <th>2</th>\n",
       "      <td>3</td>\n",
       "      <td>1</td>\n",
       "      <td>0</td>\n",
       "      <td>0</td>\n",
       "      <td>0</td>\n",
       "      <td>2</td>\n",
       "      <td>Grass</td>\n",
       "      <td>2.0</td>\n",
       "      <td>100.0</td>\n",
       "      <td>2</td>\n",
       "      <td>...</td>\n",
       "      <td>45.0</td>\n",
       "      <td>70.0</td>\n",
       "      <td>236.0</td>\n",
       "      <td>Medium Slow</td>\n",
       "      <td>2</td>\n",
       "      <td>Grass</td>\n",
       "      <td>87.5</td>\n",
       "      <td>20.0</td>\n",
       "      <td>9</td>\n",
       "      <td>4</td>\n",
       "    </tr>\n",
       "    <tr>\n",
       "      <th>3</th>\n",
       "      <td>3</td>\n",
       "      <td>1</td>\n",
       "      <td>0</td>\n",
       "      <td>0</td>\n",
       "      <td>0</td>\n",
       "      <td>2</td>\n",
       "      <td>Grass</td>\n",
       "      <td>2.4</td>\n",
       "      <td>155.5</td>\n",
       "      <td>1</td>\n",
       "      <td>...</td>\n",
       "      <td>45.0</td>\n",
       "      <td>70.0</td>\n",
       "      <td>281.0</td>\n",
       "      <td>Medium Slow</td>\n",
       "      <td>2</td>\n",
       "      <td>Grass</td>\n",
       "      <td>87.5</td>\n",
       "      <td>20.0</td>\n",
       "      <td>9</td>\n",
       "      <td>4</td>\n",
       "    </tr>\n",
       "    <tr>\n",
       "      <th>4</th>\n",
       "      <td>4</td>\n",
       "      <td>1</td>\n",
       "      <td>0</td>\n",
       "      <td>0</td>\n",
       "      <td>0</td>\n",
       "      <td>1</td>\n",
       "      <td>Fire</td>\n",
       "      <td>0.6</td>\n",
       "      <td>8.5</td>\n",
       "      <td>2</td>\n",
       "      <td>...</td>\n",
       "      <td>45.0</td>\n",
       "      <td>70.0</td>\n",
       "      <td>62.0</td>\n",
       "      <td>Medium Slow</td>\n",
       "      <td>2</td>\n",
       "      <td>Dragon</td>\n",
       "      <td>87.5</td>\n",
       "      <td>20.0</td>\n",
       "      <td>6</td>\n",
       "      <td>4</td>\n",
       "    </tr>\n",
       "  </tbody>\n",
       "</table>\n",
       "<p>5 rows × 27 columns</p>\n",
       "</div>"
      ],
      "text/plain": [
       "   pokedex_number  generation  is_sub_legendary  is_legendary  is_mythical  \\\n",
       "0               1           1                 0             0            0   \n",
       "1               2           1                 0             0            0   \n",
       "2               3           1                 0             0            0   \n",
       "3               3           1                 0             0            0   \n",
       "4               4           1                 0             0            0   \n",
       "\n",
       "   type_number type_1  height_m  weight_kg  abilities_number  ...  catch_rate  \\\n",
       "0            2  Grass       0.7        6.9                 2  ...        45.0   \n",
       "1            2  Grass       1.0       13.0                 2  ...        45.0   \n",
       "2            2  Grass       2.0      100.0                 2  ...        45.0   \n",
       "3            2  Grass       2.4      155.5                 1  ...        45.0   \n",
       "4            1   Fire       0.6        8.5                 2  ...        45.0   \n",
       "\n",
       "   base_friendship  base_experience  growth_rate  egg_type_number  egg_type_1  \\\n",
       "0             70.0             64.0  Medium Slow                2       Grass   \n",
       "1             70.0            142.0  Medium Slow                2       Grass   \n",
       "2             70.0            236.0  Medium Slow                2       Grass   \n",
       "3             70.0            281.0  Medium Slow                2       Grass   \n",
       "4             70.0             62.0  Medium Slow                2      Dragon   \n",
       "\n",
       "   percentage_male  egg_cycles  type1_int  growth_rate_int  \n",
       "0             87.5        20.0          9                4  \n",
       "1             87.5        20.0          9                4  \n",
       "2             87.5        20.0          9                4  \n",
       "3             87.5        20.0          9                4  \n",
       "4             87.5        20.0          6                4  \n",
       "\n",
       "[5 rows x 27 columns]"
      ]
     },
     "execution_count": 32,
     "metadata": {},
     "output_type": "execute_result"
    }
   ],
   "source": [
    "poke1.head()"
   ]
  },
  {
   "cell_type": "code",
   "execution_count": 33,
   "id": "8b96741a",
   "metadata": {},
   "outputs": [],
   "source": [
    "eggStr=poke1['egg_type_1'].unique()\n",
    "eggInt=[1,2,3,4,5,6,7,8,9,10,11,12,13,14,15]"
   ]
  },
  {
   "cell_type": "code",
   "execution_count": 34,
   "id": "44cc7906",
   "metadata": {},
   "outputs": [],
   "source": [
    "et=le.fit_transform(poke1['egg_type_1'])"
   ]
  },
  {
   "cell_type": "code",
   "execution_count": 35,
   "id": "5cec14f3",
   "metadata": {},
   "outputs": [],
   "source": [
    "poke1['egg_type_int']=et"
   ]
  },
  {
   "cell_type": "code",
   "execution_count": 36,
   "id": "698b1b72",
   "metadata": {
    "scrolled": true
   },
   "outputs": [
    {
     "data": {
      "text/html": [
       "<div>\n",
       "<style scoped>\n",
       "    .dataframe tbody tr th:only-of-type {\n",
       "        vertical-align: middle;\n",
       "    }\n",
       "\n",
       "    .dataframe tbody tr th {\n",
       "        vertical-align: top;\n",
       "    }\n",
       "\n",
       "    .dataframe thead th {\n",
       "        text-align: right;\n",
       "    }\n",
       "</style>\n",
       "<table border=\"1\" class=\"dataframe\">\n",
       "  <thead>\n",
       "    <tr style=\"text-align: right;\">\n",
       "      <th></th>\n",
       "      <th>pokedex_number</th>\n",
       "      <th>generation</th>\n",
       "      <th>is_sub_legendary</th>\n",
       "      <th>is_legendary</th>\n",
       "      <th>is_mythical</th>\n",
       "      <th>type_number</th>\n",
       "      <th>type_1</th>\n",
       "      <th>height_m</th>\n",
       "      <th>weight_kg</th>\n",
       "      <th>abilities_number</th>\n",
       "      <th>...</th>\n",
       "      <th>base_friendship</th>\n",
       "      <th>base_experience</th>\n",
       "      <th>growth_rate</th>\n",
       "      <th>egg_type_number</th>\n",
       "      <th>egg_type_1</th>\n",
       "      <th>percentage_male</th>\n",
       "      <th>egg_cycles</th>\n",
       "      <th>type1_int</th>\n",
       "      <th>growth_rate_int</th>\n",
       "      <th>egg_type_int</th>\n",
       "    </tr>\n",
       "  </thead>\n",
       "  <tbody>\n",
       "    <tr>\n",
       "      <th>0</th>\n",
       "      <td>1</td>\n",
       "      <td>1</td>\n",
       "      <td>0</td>\n",
       "      <td>0</td>\n",
       "      <td>0</td>\n",
       "      <td>2</td>\n",
       "      <td>Grass</td>\n",
       "      <td>0.7</td>\n",
       "      <td>6.9</td>\n",
       "      <td>2</td>\n",
       "      <td>...</td>\n",
       "      <td>70.0</td>\n",
       "      <td>64.0</td>\n",
       "      <td>Medium Slow</td>\n",
       "      <td>2</td>\n",
       "      <td>Grass</td>\n",
       "      <td>87.5</td>\n",
       "      <td>20.0</td>\n",
       "      <td>9</td>\n",
       "      <td>4</td>\n",
       "      <td>7</td>\n",
       "    </tr>\n",
       "    <tr>\n",
       "      <th>1</th>\n",
       "      <td>2</td>\n",
       "      <td>1</td>\n",
       "      <td>0</td>\n",
       "      <td>0</td>\n",
       "      <td>0</td>\n",
       "      <td>2</td>\n",
       "      <td>Grass</td>\n",
       "      <td>1.0</td>\n",
       "      <td>13.0</td>\n",
       "      <td>2</td>\n",
       "      <td>...</td>\n",
       "      <td>70.0</td>\n",
       "      <td>142.0</td>\n",
       "      <td>Medium Slow</td>\n",
       "      <td>2</td>\n",
       "      <td>Grass</td>\n",
       "      <td>87.5</td>\n",
       "      <td>20.0</td>\n",
       "      <td>9</td>\n",
       "      <td>4</td>\n",
       "      <td>7</td>\n",
       "    </tr>\n",
       "    <tr>\n",
       "      <th>2</th>\n",
       "      <td>3</td>\n",
       "      <td>1</td>\n",
       "      <td>0</td>\n",
       "      <td>0</td>\n",
       "      <td>0</td>\n",
       "      <td>2</td>\n",
       "      <td>Grass</td>\n",
       "      <td>2.0</td>\n",
       "      <td>100.0</td>\n",
       "      <td>2</td>\n",
       "      <td>...</td>\n",
       "      <td>70.0</td>\n",
       "      <td>236.0</td>\n",
       "      <td>Medium Slow</td>\n",
       "      <td>2</td>\n",
       "      <td>Grass</td>\n",
       "      <td>87.5</td>\n",
       "      <td>20.0</td>\n",
       "      <td>9</td>\n",
       "      <td>4</td>\n",
       "      <td>7</td>\n",
       "    </tr>\n",
       "    <tr>\n",
       "      <th>3</th>\n",
       "      <td>3</td>\n",
       "      <td>1</td>\n",
       "      <td>0</td>\n",
       "      <td>0</td>\n",
       "      <td>0</td>\n",
       "      <td>2</td>\n",
       "      <td>Grass</td>\n",
       "      <td>2.4</td>\n",
       "      <td>155.5</td>\n",
       "      <td>1</td>\n",
       "      <td>...</td>\n",
       "      <td>70.0</td>\n",
       "      <td>281.0</td>\n",
       "      <td>Medium Slow</td>\n",
       "      <td>2</td>\n",
       "      <td>Grass</td>\n",
       "      <td>87.5</td>\n",
       "      <td>20.0</td>\n",
       "      <td>9</td>\n",
       "      <td>4</td>\n",
       "      <td>7</td>\n",
       "    </tr>\n",
       "    <tr>\n",
       "      <th>4</th>\n",
       "      <td>4</td>\n",
       "      <td>1</td>\n",
       "      <td>0</td>\n",
       "      <td>0</td>\n",
       "      <td>0</td>\n",
       "      <td>1</td>\n",
       "      <td>Fire</td>\n",
       "      <td>0.6</td>\n",
       "      <td>8.5</td>\n",
       "      <td>2</td>\n",
       "      <td>...</td>\n",
       "      <td>70.0</td>\n",
       "      <td>62.0</td>\n",
       "      <td>Medium Slow</td>\n",
       "      <td>2</td>\n",
       "      <td>Dragon</td>\n",
       "      <td>87.5</td>\n",
       "      <td>20.0</td>\n",
       "      <td>6</td>\n",
       "      <td>4</td>\n",
       "      <td>3</td>\n",
       "    </tr>\n",
       "  </tbody>\n",
       "</table>\n",
       "<p>5 rows × 28 columns</p>\n",
       "</div>"
      ],
      "text/plain": [
       "   pokedex_number  generation  is_sub_legendary  is_legendary  is_mythical  \\\n",
       "0               1           1                 0             0            0   \n",
       "1               2           1                 0             0            0   \n",
       "2               3           1                 0             0            0   \n",
       "3               3           1                 0             0            0   \n",
       "4               4           1                 0             0            0   \n",
       "\n",
       "   type_number type_1  height_m  weight_kg  abilities_number  ...  \\\n",
       "0            2  Grass       0.7        6.9                 2  ...   \n",
       "1            2  Grass       1.0       13.0                 2  ...   \n",
       "2            2  Grass       2.0      100.0                 2  ...   \n",
       "3            2  Grass       2.4      155.5                 1  ...   \n",
       "4            1   Fire       0.6        8.5                 2  ...   \n",
       "\n",
       "   base_friendship  base_experience  growth_rate  egg_type_number  egg_type_1  \\\n",
       "0             70.0             64.0  Medium Slow                2       Grass   \n",
       "1             70.0            142.0  Medium Slow                2       Grass   \n",
       "2             70.0            236.0  Medium Slow                2       Grass   \n",
       "3             70.0            281.0  Medium Slow                2       Grass   \n",
       "4             70.0             62.0  Medium Slow                2      Dragon   \n",
       "\n",
       "   percentage_male  egg_cycles  type1_int  growth_rate_int  egg_type_int  \n",
       "0             87.5        20.0          9                4             7  \n",
       "1             87.5        20.0          9                4             7  \n",
       "2             87.5        20.0          9                4             7  \n",
       "3             87.5        20.0          9                4             7  \n",
       "4             87.5        20.0          6                4             3  \n",
       "\n",
       "[5 rows x 28 columns]"
      ]
     },
     "execution_count": 36,
     "metadata": {},
     "output_type": "execute_result"
    }
   ],
   "source": [
    "poke1.head()"
   ]
  },
  {
   "cell_type": "code",
   "execution_count": 37,
   "id": "e798ae54",
   "metadata": {},
   "outputs": [],
   "source": [
    "#removing all the string type data columns\n",
    "poke2=poke1.drop(['type_1','growth_rate','egg_type_1'],axis=1)"
   ]
  },
  {
   "cell_type": "code",
   "execution_count": 38,
   "id": "3f83dec8",
   "metadata": {
    "scrolled": true
   },
   "outputs": [
    {
     "data": {
      "text/html": [
       "<div>\n",
       "<style scoped>\n",
       "    .dataframe tbody tr th:only-of-type {\n",
       "        vertical-align: middle;\n",
       "    }\n",
       "\n",
       "    .dataframe tbody tr th {\n",
       "        vertical-align: top;\n",
       "    }\n",
       "\n",
       "    .dataframe thead th {\n",
       "        text-align: right;\n",
       "    }\n",
       "</style>\n",
       "<table border=\"1\" class=\"dataframe\">\n",
       "  <thead>\n",
       "    <tr style=\"text-align: right;\">\n",
       "      <th></th>\n",
       "      <th>pokedex_number</th>\n",
       "      <th>generation</th>\n",
       "      <th>is_sub_legendary</th>\n",
       "      <th>is_legendary</th>\n",
       "      <th>is_mythical</th>\n",
       "      <th>type_number</th>\n",
       "      <th>height_m</th>\n",
       "      <th>weight_kg</th>\n",
       "      <th>abilities_number</th>\n",
       "      <th>total_points</th>\n",
       "      <th>...</th>\n",
       "      <th>speed</th>\n",
       "      <th>catch_rate</th>\n",
       "      <th>base_friendship</th>\n",
       "      <th>base_experience</th>\n",
       "      <th>egg_type_number</th>\n",
       "      <th>percentage_male</th>\n",
       "      <th>egg_cycles</th>\n",
       "      <th>type1_int</th>\n",
       "      <th>growth_rate_int</th>\n",
       "      <th>egg_type_int</th>\n",
       "    </tr>\n",
       "  </thead>\n",
       "  <tbody>\n",
       "    <tr>\n",
       "      <th>0</th>\n",
       "      <td>1</td>\n",
       "      <td>1</td>\n",
       "      <td>0</td>\n",
       "      <td>0</td>\n",
       "      <td>0</td>\n",
       "      <td>2</td>\n",
       "      <td>0.7</td>\n",
       "      <td>6.9</td>\n",
       "      <td>2</td>\n",
       "      <td>318.0</td>\n",
       "      <td>...</td>\n",
       "      <td>45.0</td>\n",
       "      <td>45.0</td>\n",
       "      <td>70.0</td>\n",
       "      <td>64.0</td>\n",
       "      <td>2</td>\n",
       "      <td>87.5</td>\n",
       "      <td>20.0</td>\n",
       "      <td>9</td>\n",
       "      <td>4</td>\n",
       "      <td>7</td>\n",
       "    </tr>\n",
       "    <tr>\n",
       "      <th>1</th>\n",
       "      <td>2</td>\n",
       "      <td>1</td>\n",
       "      <td>0</td>\n",
       "      <td>0</td>\n",
       "      <td>0</td>\n",
       "      <td>2</td>\n",
       "      <td>1.0</td>\n",
       "      <td>13.0</td>\n",
       "      <td>2</td>\n",
       "      <td>405.0</td>\n",
       "      <td>...</td>\n",
       "      <td>60.0</td>\n",
       "      <td>45.0</td>\n",
       "      <td>70.0</td>\n",
       "      <td>142.0</td>\n",
       "      <td>2</td>\n",
       "      <td>87.5</td>\n",
       "      <td>20.0</td>\n",
       "      <td>9</td>\n",
       "      <td>4</td>\n",
       "      <td>7</td>\n",
       "    </tr>\n",
       "    <tr>\n",
       "      <th>2</th>\n",
       "      <td>3</td>\n",
       "      <td>1</td>\n",
       "      <td>0</td>\n",
       "      <td>0</td>\n",
       "      <td>0</td>\n",
       "      <td>2</td>\n",
       "      <td>2.0</td>\n",
       "      <td>100.0</td>\n",
       "      <td>2</td>\n",
       "      <td>525.0</td>\n",
       "      <td>...</td>\n",
       "      <td>80.0</td>\n",
       "      <td>45.0</td>\n",
       "      <td>70.0</td>\n",
       "      <td>236.0</td>\n",
       "      <td>2</td>\n",
       "      <td>87.5</td>\n",
       "      <td>20.0</td>\n",
       "      <td>9</td>\n",
       "      <td>4</td>\n",
       "      <td>7</td>\n",
       "    </tr>\n",
       "    <tr>\n",
       "      <th>3</th>\n",
       "      <td>3</td>\n",
       "      <td>1</td>\n",
       "      <td>0</td>\n",
       "      <td>0</td>\n",
       "      <td>0</td>\n",
       "      <td>2</td>\n",
       "      <td>2.4</td>\n",
       "      <td>155.5</td>\n",
       "      <td>1</td>\n",
       "      <td>625.0</td>\n",
       "      <td>...</td>\n",
       "      <td>80.0</td>\n",
       "      <td>45.0</td>\n",
       "      <td>70.0</td>\n",
       "      <td>281.0</td>\n",
       "      <td>2</td>\n",
       "      <td>87.5</td>\n",
       "      <td>20.0</td>\n",
       "      <td>9</td>\n",
       "      <td>4</td>\n",
       "      <td>7</td>\n",
       "    </tr>\n",
       "    <tr>\n",
       "      <th>4</th>\n",
       "      <td>4</td>\n",
       "      <td>1</td>\n",
       "      <td>0</td>\n",
       "      <td>0</td>\n",
       "      <td>0</td>\n",
       "      <td>1</td>\n",
       "      <td>0.6</td>\n",
       "      <td>8.5</td>\n",
       "      <td>2</td>\n",
       "      <td>309.0</td>\n",
       "      <td>...</td>\n",
       "      <td>65.0</td>\n",
       "      <td>45.0</td>\n",
       "      <td>70.0</td>\n",
       "      <td>62.0</td>\n",
       "      <td>2</td>\n",
       "      <td>87.5</td>\n",
       "      <td>20.0</td>\n",
       "      <td>6</td>\n",
       "      <td>4</td>\n",
       "      <td>3</td>\n",
       "    </tr>\n",
       "  </tbody>\n",
       "</table>\n",
       "<p>5 rows × 25 columns</p>\n",
       "</div>"
      ],
      "text/plain": [
       "   pokedex_number  generation  is_sub_legendary  is_legendary  is_mythical  \\\n",
       "0               1           1                 0             0            0   \n",
       "1               2           1                 0             0            0   \n",
       "2               3           1                 0             0            0   \n",
       "3               3           1                 0             0            0   \n",
       "4               4           1                 0             0            0   \n",
       "\n",
       "   type_number  height_m  weight_kg  abilities_number  total_points  ...  \\\n",
       "0            2       0.7        6.9                 2         318.0  ...   \n",
       "1            2       1.0       13.0                 2         405.0  ...   \n",
       "2            2       2.0      100.0                 2         525.0  ...   \n",
       "3            2       2.4      155.5                 1         625.0  ...   \n",
       "4            1       0.6        8.5                 2         309.0  ...   \n",
       "\n",
       "   speed  catch_rate  base_friendship  base_experience  egg_type_number  \\\n",
       "0   45.0        45.0             70.0             64.0                2   \n",
       "1   60.0        45.0             70.0            142.0                2   \n",
       "2   80.0        45.0             70.0            236.0                2   \n",
       "3   80.0        45.0             70.0            281.0                2   \n",
       "4   65.0        45.0             70.0             62.0                2   \n",
       "\n",
       "   percentage_male  egg_cycles  type1_int  growth_rate_int  egg_type_int  \n",
       "0             87.5        20.0          9                4             7  \n",
       "1             87.5        20.0          9                4             7  \n",
       "2             87.5        20.0          9                4             7  \n",
       "3             87.5        20.0          9                4             7  \n",
       "4             87.5        20.0          6                4             3  \n",
       "\n",
       "[5 rows x 25 columns]"
      ]
     },
     "execution_count": 38,
     "metadata": {},
     "output_type": "execute_result"
    }
   ],
   "source": [
    "poke2.head()"
   ]
  },
  {
   "cell_type": "code",
   "execution_count": 39,
   "id": "18985f84",
   "metadata": {},
   "outputs": [],
   "source": [
    "#assigning dependent and intependent variables\n",
    "y=poke2['is_legendary']\n",
    "x=poke2.drop(['is_sub_legendary','is_legendary','is_mythical'],axis=1)"
   ]
  },
  {
   "cell_type": "code",
   "execution_count": 40,
   "id": "d7f2a539",
   "metadata": {},
   "outputs": [],
   "source": [
    "#splitting data into test and train set\n",
    "from sklearn.model_selection import train_test_split\n",
    "x_train,x_test,y_train,y_test=train_test_split(x,y,test_size=0.3)"
   ]
  },
  {
   "cell_type": "code",
   "execution_count": 41,
   "id": "899618b8",
   "metadata": {},
   "outputs": [],
   "source": [
    "#applying logistic regression \n",
    "from sklearn.linear_model import LogisticRegression\n",
    "log=LogisticRegression()"
   ]
  },
  {
   "cell_type": "code",
   "execution_count": 42,
   "id": "0ea850b8",
   "metadata": {},
   "outputs": [
    {
     "name": "stderr",
     "output_type": "stream",
     "text": [
      "C:\\Users\\aditi\\anaconda3\\lib\\site-packages\\sklearn\\linear_model\\_logistic.py:763: ConvergenceWarning: lbfgs failed to converge (status=1):\n",
      "STOP: TOTAL NO. of ITERATIONS REACHED LIMIT.\n",
      "\n",
      "Increase the number of iterations (max_iter) or scale the data as shown in:\n",
      "    https://scikit-learn.org/stable/modules/preprocessing.html\n",
      "Please also refer to the documentation for alternative solver options:\n",
      "    https://scikit-learn.org/stable/modules/linear_model.html#logistic-regression\n",
      "  n_iter_i = _check_optimize_result(\n"
     ]
    },
    {
     "data": {
      "text/plain": [
       "LogisticRegression()"
      ]
     },
     "execution_count": 42,
     "metadata": {},
     "output_type": "execute_result"
    }
   ],
   "source": [
    "log.fit(x_train,y_train)"
   ]
  },
  {
   "cell_type": "code",
   "execution_count": 43,
   "id": "58900f62",
   "metadata": {},
   "outputs": [],
   "source": [
    "Ploglegendary=log.predict(x_test)"
   ]
  },
  {
   "cell_type": "code",
   "execution_count": 44,
   "id": "22803312",
   "metadata": {},
   "outputs": [
    {
     "data": {
      "text/plain": [
       "array([[294,   1],\n",
       "       [  5,   7]], dtype=int64)"
      ]
     },
     "execution_count": 44,
     "metadata": {},
     "output_type": "execute_result"
    }
   ],
   "source": [
    "#checking for accuracy score and classification report\n",
    "from sklearn.metrics import confusion_matrix,accuracy_score, classification_report\n",
    "confusion_matrix(Ploglegendary,y_test)"
   ]
  },
  {
   "cell_type": "code",
   "execution_count": 45,
   "id": "3f02bf92",
   "metadata": {},
   "outputs": [
    {
     "data": {
      "text/plain": [
       "0.9804560260586319"
      ]
     },
     "execution_count": 45,
     "metadata": {},
     "output_type": "execute_result"
    }
   ],
   "source": [
    "accuracy_score(Ploglegendary,y_test)"
   ]
  },
  {
   "cell_type": "code",
   "execution_count": 46,
   "id": "e0d0fa75",
   "metadata": {},
   "outputs": [
    {
     "data": {
      "text/plain": [
       "'              precision    recall  f1-score   support\\n\\n           0       0.98      1.00      0.99       295\\n           1       0.88      0.58      0.70        12\\n\\n    accuracy                           0.98       307\\n   macro avg       0.93      0.79      0.84       307\\nweighted avg       0.98      0.98      0.98       307\\n'"
      ]
     },
     "execution_count": 46,
     "metadata": {},
     "output_type": "execute_result"
    }
   ],
   "source": [
    "classification_report(Ploglegendary,y_test)"
   ]
  },
  {
   "cell_type": "code",
   "execution_count": 47,
   "id": "71a90f3c",
   "metadata": {},
   "outputs": [],
   "source": [
    "#applying random forest classifier\n",
    "from sklearn.ensemble import RandomForestClassifier"
   ]
  },
  {
   "cell_type": "code",
   "execution_count": 48,
   "id": "fea3bc41",
   "metadata": {},
   "outputs": [],
   "source": [
    "r=RandomForestClassifier()"
   ]
  },
  {
   "cell_type": "code",
   "execution_count": 49,
   "id": "f96dcf5e",
   "metadata": {},
   "outputs": [],
   "source": [
    "r.fit(x_train,y_train)\n",
    "PrfLegendary=r.predict(x_test)"
   ]
  },
  {
   "cell_type": "code",
   "execution_count": 50,
   "id": "661fd35b",
   "metadata": {},
   "outputs": [
    {
     "data": {
      "text/plain": [
       "0.993485342019544"
      ]
     },
     "execution_count": 50,
     "metadata": {},
     "output_type": "execute_result"
    }
   ],
   "source": [
    "accuracy_score(PrfLegendary,y_test)"
   ]
  },
  {
   "cell_type": "code",
   "execution_count": 51,
   "id": "70c67946",
   "metadata": {},
   "outputs": [
    {
     "data": {
      "text/plain": [
       "array([[297,   0],\n",
       "       [  2,   8]], dtype=int64)"
      ]
     },
     "execution_count": 51,
     "metadata": {},
     "output_type": "execute_result"
    }
   ],
   "source": [
    "confusion_matrix(PrfLegendary,y_test)"
   ]
  },
  {
   "cell_type": "code",
   "execution_count": 52,
   "id": "bb501fe8",
   "metadata": {},
   "outputs": [
    {
     "data": {
      "text/plain": [
       "'              precision    recall  f1-score   support\\n\\n           0       0.99      1.00      1.00       297\\n           1       1.00      0.80      0.89        10\\n\\n    accuracy                           0.99       307\\n   macro avg       1.00      0.90      0.94       307\\nweighted avg       0.99      0.99      0.99       307\\n'"
      ]
     },
     "execution_count": 52,
     "metadata": {},
     "output_type": "execute_result"
    }
   ],
   "source": [
    "classification_report(PrfLegendary,y_test)"
   ]
  },
  {
   "cell_type": "code",
   "execution_count": 53,
   "id": "1791d5fa",
   "metadata": {},
   "outputs": [],
   "source": [
    "#applying decision tree classifier\n",
    "from sklearn.tree import DecisionTreeClassifier\n",
    "dt=DecisionTreeClassifier()"
   ]
  },
  {
   "cell_type": "code",
   "execution_count": 54,
   "id": "4252c521",
   "metadata": {},
   "outputs": [],
   "source": [
    "dt.fit(x_train,y_train)\n",
    "PdtLegendary =dt.predict(x_test)"
   ]
  },
  {
   "cell_type": "code",
   "execution_count": 55,
   "id": "6349932c",
   "metadata": {},
   "outputs": [
    {
     "data": {
      "text/plain": [
       "array([[295,   0],\n",
       "       [  4,   8]], dtype=int64)"
      ]
     },
     "execution_count": 55,
     "metadata": {},
     "output_type": "execute_result"
    }
   ],
   "source": [
    "confusion_matrix(PdtLegendary,y_test)"
   ]
  },
  {
   "cell_type": "code",
   "execution_count": 56,
   "id": "a7d14c7c",
   "metadata": {},
   "outputs": [
    {
     "data": {
      "text/plain": [
       "0.9869706840390879"
      ]
     },
     "execution_count": 56,
     "metadata": {},
     "output_type": "execute_result"
    }
   ],
   "source": [
    "accuracy_score(PdtLegendary,y_test)"
   ]
  },
  {
   "cell_type": "code",
   "execution_count": 57,
   "id": "489a1bf7",
   "metadata": {},
   "outputs": [
    {
     "data": {
      "text/plain": [
       "'              precision    recall  f1-score   support\\n\\n           0       0.99      1.00      0.99       295\\n           1       1.00      0.67      0.80        12\\n\\n    accuracy                           0.99       307\\n   macro avg       0.99      0.83      0.90       307\\nweighted avg       0.99      0.99      0.99       307\\n'"
      ]
     },
     "execution_count": 57,
     "metadata": {},
     "output_type": "execute_result"
    }
   ],
   "source": [
    "classification_report(PdtLegendary,y_test)"
   ]
  },
  {
   "cell_type": "code",
   "execution_count": null,
   "id": "1f5e37db",
   "metadata": {},
   "outputs": [],
   "source": []
  }
 ],
 "metadata": {
  "kernelspec": {
   "display_name": "Python 3 (ipykernel)",
   "language": "python",
   "name": "python3"
  },
  "language_info": {
   "codemirror_mode": {
    "name": "ipython",
    "version": 3
   },
   "file_extension": ".py",
   "mimetype": "text/x-python",
   "name": "python",
   "nbconvert_exporter": "python",
   "pygments_lexer": "ipython3",
   "version": "3.9.7"
  }
 },
 "nbformat": 4,
 "nbformat_minor": 5
}
